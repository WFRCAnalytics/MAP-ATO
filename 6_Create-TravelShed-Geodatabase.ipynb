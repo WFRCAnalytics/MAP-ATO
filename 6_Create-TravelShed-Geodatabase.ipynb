{
 "cells": [
  {
   "cell_type": "code",
   "execution_count": 2,
   "metadata": {},
   "outputs": [
    {
     "name": "stdout",
     "output_type": "stream",
     "text": [
      "Converted TravelShed_2023_AUTO.geojson to feature class in results/TravelSheds_RTP2023.gdb\n",
      "Converted TravelShed_2023_TRAN.geojson to feature class in results/TravelSheds_RTP2023.gdb\n",
      "Converted TravelShed_2050_AUTO.geojson to feature class in results/TravelSheds_RTP2023.gdb\n",
      "Converted TravelShed_2050_TRAN.geojson to feature class in results/TravelSheds_RTP2023.gdb\n"
     ]
    }
   ],
   "source": [
    "import os\n",
    "import arcpy\n",
    "\n",
    "# Define paths\n",
    "geojson_dir = \"results/travelsheds\"\n",
    "gdb_path = \"results/TravelSheds_RTP2023.gdb\"\n",
    "\n",
    "# Recreate geodatabase\n",
    "if arcpy.Exists(gdb_path):\n",
    "    arcpy.Delete_management(gdb_path)\n",
    "arcpy.CreateFileGDB_management(os.path.dirname(gdb_path), os.path.basename(gdb_path))\n",
    "\n",
    "# Convert GeoJSON files to feature classes\n",
    "arcpy.env.extent = \"MAXOF\"\n",
    "for file in os.listdir(geojson_dir):\n",
    "    if file.endswith(\".geojson\"):\n",
    "        input_path = os.path.join(geojson_dir, file)\n",
    "        feature_class = os.path.join(gdb_path, os.path.splitext(file)[0])\n",
    "\n",
    "        try:\n",
    "            arcpy.conversion.JSONToFeatures(input_path, feature_class)\n",
    "            arcpy.management.DefineProjection(feature_class, arcpy.SpatialReference(4326))\n",
    "            print(f\"Converted {file} to feature class in {gdb_path}\")\n",
    "        except Exception as e:\n",
    "            print(f\"Error converting {file}: {e}\")\n"
   ]
  }
 ],
 "metadata": {
  "kernelspec": {
   "display_name": "Python 3",
   "language": "python",
   "name": "python3"
  },
  "language_info": {
   "codemirror_mode": {
    "name": "ipython",
    "version": 3
   },
   "file_extension": ".py",
   "mimetype": "text/x-python",
   "name": "python",
   "nbconvert_exporter": "python",
   "pygments_lexer": "ipython3",
   "version": "3.9.11"
  }
 },
 "nbformat": 4,
 "nbformat_minor": 2
}
